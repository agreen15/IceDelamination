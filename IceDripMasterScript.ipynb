{
 "cells": [
  {
   "cell_type": "code",
   "execution_count": 1,
   "metadata": {
    "scrolled": true
   },
   "outputs": [],
   "source": [
    "import underworld as uw\n",
    "from underworld import function as fn\n",
    "#import UWGeodynamics as GEO\n",
    "#from underworld.scaling import units as u\n",
    "#from underworld.scaling import dimensionalise, non_dimensionalise\n",
    "import math\n",
    "import numpy as np\n",
    "import underworld.visualisation as glucifer\n",
    "#import glucifer\n",
    "import os\n",
    "\n",
    "rank = uw.mpi.rank"
   ]
  },
  {
   "cell_type": "markdown",
   "metadata": {},
   "source": [
    "## Basic Model Parameters and Scaling"
   ]
  },
  {
   "cell_type": "code",
   "execution_count": 2,
   "metadata": {},
   "outputs": [
    {
     "name": "stdout",
     "output_type": "stream",
     "text": [
      "KM_kilograms  = 1.9285714285714285e+33\n",
      "Kt_seconds  = 642857142857142.9\n",
      "K_pascal = 0.15555555555555556\n"
     ]
    }
   ],
   "source": [
    "KL_meters    = 30000. #* u.meter\n",
    "K_viscosity  = 1.0e14 #* u.pascal * u.second\n",
    "K_density    = 916.8 #* u.kilogram / (u.meter**3)\n",
    "Kt_seconds   = 30000. ** 2 / 1.4e-6\n",
    "KM_kilograms = K_viscosity * KL_meters * Kt_seconds\n",
    "\n",
    "K_substance  = 1. #* u.mole\n",
    "KT_degrees   = 173. #* u.kelvin\n",
    "K_pascal     = K_viscosity / Kt_seconds\n",
    "\n",
    "print('KM_kilograms  = {}'.format(KM_kilograms))\n",
    "print('Kt_seconds  = {}'.format(Kt_seconds))\n",
    "print('K_pascal = {}'.format(K_pascal))\n",
    "\n"
   ]
  },
  {
   "cell_type": "code",
   "execution_count": 3,
   "metadata": {},
   "outputs": [],
   "source": [
    "Yres      = 96\n",
    "Xres      = int(Yres * 3 / 2)\n",
    "boxHeight = 30000. #* u.meter #33. * u.kilometer\n",
    "boxLength = boxHeight * 3. / 2.\n",
    "Tmin      = 100. #* u.kelvin\n",
    "Tmax      = 273. #* u.kelvin\n",
    "Tc        = 250. #* u.kelvin\n",
    "deltaT    = Tmax - Tmin\n",
    "deltaTc   = Tc - Tmin"
   ]
  },
  {
   "cell_type": "code",
   "execution_count": 4,
   "metadata": {},
   "outputs": [],
   "source": [
    "K = 1.4e-6 #* (u.meter**2) * (u.second**(-1)) #Diffusivity\n",
    "\n",
    "rho = 916.8 #* u.kilogram / u.meter**3 #Density\n",
    "\n",
    "maxRho = 999.0 #maximum density difference\n",
    "\n",
    "DelRho = maxRho - rho\n",
    "\n",
    "rhoSalt = 1444. #* u.kilogram / u.meter**3\n",
    "\n",
    "alpha = 1.56e-4 #/ u.kelvin #Thermal Compressibility\n",
    "\n",
    "g = 1.315 #* u.meter / u.second**2\n",
    "# Compressibility in /bar: placeholder value at ~250 K from Marion & Jakubawski (2004)\n",
    "beta = 2.5e-4 #/ u.bar\n",
    "\n",
    "Beta = 9.4\n",
    "\n",
    "etaref = 1.0e14 #* u.pascal * u.second\n",
    "\n",
    "etamax = 1.0e20 #* u.pascal * u.second\n",
    "\n",
    "Y = 0.9 #* u.gigapascal #Young's Modulus\n",
    "\n",
    "G = 3.6 #* u.gigapascal #Shear Modulus\n",
    "\n",
    "sigy = 1.0e6 #* u.pascal  #Yield Stress\n",
    "\n",
    "Ra = (rho * alpha * g * deltaT * boxHeight ** 3) / (etaref * K)\n",
    "\n",
    "Rb = (DelRho * g * boxHeight ** 3) / (etaref * K)"
   ]
  },
  {
   "cell_type": "code",
   "execution_count": 5,
   "metadata": {},
   "outputs": [
    {
     "name": "stdout",
     "output_type": "stream",
     "text": [
      "rho  = 916.8\n",
      "alpha  = 0.000156\n",
      "g  = 1.315\n",
      "DeltaT  = 173.0\n",
      "b^3  = 27000000000000.0\n",
      "K  = 1.4e-06\n",
      "eta  = 100000000000000.0\n",
      "Ra  = 6274899.687085714\n",
      "Rb  = 20846507.142857153\n"
     ]
    }
   ],
   "source": [
    "print('rho  = {}'.format(rho))\n",
    "print('alpha  = {}'.format(alpha))\n",
    "print('g  = {}'.format(g))\n",
    "print('DeltaT  = {}'.format(deltaT))\n",
    "print('b^3  = {}'.format(boxHeight ** 3))\n",
    "print('K  = {}'.format(K))\n",
    "print('eta  = {}'.format(etaref))\n",
    "print('Ra  = {}'.format(Ra))\n",
    "print('Rb  = {}'.format(Rb))\n"
   ]
  },
  {
   "cell_type": "code",
   "execution_count": 6,
   "metadata": {},
   "outputs": [],
   "source": [
    "g_s = g / (KL_meters / Kt_seconds ** 2)\n",
    "rho_s = rho / K_density\n",
    "DelRho_s = DelRho / rho\n",
    "rhoSalt_s = rhoSalt / K_density\n",
    "alpha_s = alpha * KT_degrees\n",
    "etaref_s = etaref / K_viscosity\n",
    "etamax_s = etamax / K_viscosity\n",
    "K_s = K / (KL_meters ** 2 / Kt_seconds)\n",
    "Lx = boxLength / KL_meters \n",
    "Ly = boxHeight / KL_meters #non_dimensionalise(boxHeight)\n",
    "Tmin_s1 = Tmin / KT_degrees\n",
    "Tmax_s1 = Tmax / KT_degrees\n",
    "Tmin_s = (Tmin-Tmin)/(Tmax-Tmin)\n",
    "Tmax_s = (Tmax-Tmin)/(Tmax-Tmin)\n",
    "Tc_s = (Tc - Tmin)/(Tmax-Tmin)\n",
    "#beta_s = non_dimensionalise(beta)\n",
    "sigy_s = sigy / K_pascal\n",
    "\n",
    "Ra_s = (rho_s * alpha_s * g_s * (Tmax_s1-Tmin_s1) * Ly ** 3) / (etaref_s * K_s)"
   ]
  },
  {
   "cell_type": "code",
   "execution_count": 7,
   "metadata": {},
   "outputs": [
    {
     "name": "stdout",
     "output_type": "stream",
     "text": [
      "rho_s  = 1.0\n",
      "alpha_s  = 0.026987999999999998\n",
      "g_s  = 1.8114795918367348e+25\n",
      "K_s  = 1.0\n",
      "eta_s  = 1.0\n",
      "Ra_s  = 4.8888211224489785e+23\n",
      "sigy_s = 6428571.428571428\n",
      "DelRho_s  = 0.0896596858638744\n"
     ]
    }
   ],
   "source": [
    "print('rho_s  = {}'.format(rho_s))\n",
    "print('alpha_s  = {}'.format(alpha_s))\n",
    "print('g_s  = {}'.format(g_s))\n",
    "print('K_s  = {}'.format(K_s))\n",
    "print('eta_s  = {}'.format(etaref_s))\n",
    "print('Ra_s  = {}'.format(Ra_s))\n",
    "print('sigy_s = {}'.format(sigy_s))\n",
    "print('DelRho_s  = {}'.format(DelRho_s))"
   ]
  },
  {
   "cell_type": "markdown",
   "metadata": {},
   "source": [
    "## Flags, Switches, and Variables: Change These!"
   ]
  },
  {
   "cell_type": "code",
   "execution_count": 8,
   "metadata": {},
   "outputs": [],
   "source": [
    "#Flags and Switches\n",
    "\n",
    "LoadFromFile = False #Check this to load a previously saved run (Note: not fully integrated yet)\n",
    "\n",
    "Testing = False #If True, will run model for 10 timesteps. If false, will run for 500 timesteps.\n",
    "\n",
    "SaltDensity = False # Change flag to True if chemical density is driven by salt fraction in ice. False prescribes an arbitrary\n",
    "                    # Density difference.\n",
    "    \n",
    "BuffoHiSalt = False #Activates depth-dependent hi-salt-content profile from Buffo et al. 2020 (Not yet integrated)\n",
    "BuffoLoSalt = False #Activates depth-dependent lo-salt-content profile from Buffo et al. 2020 (Not yet integrated)"
   ]
  },
  {
   "cell_type": "code",
   "execution_count": 9,
   "metadata": {},
   "outputs": [],
   "source": [
    "#Batch Job Info\n",
    "Batch = 1  #Batch number\n",
    "Trial = 1  #for batch submitting jobs. Labels output files with trial number."
   ]
  },
  {
   "cell_type": "code",
   "execution_count": 10,
   "metadata": {},
   "outputs": [],
   "source": [
    "#Domain Variables: Change these numbers to rearrange the size and position of crust, keel, and lens.\n",
    "\n",
    "CrustThickness = 3000.# * u.kilometer\n",
    "\n",
    "KeelRadius = 5000.# * u.kilometer\n",
    "\n",
    "LensGap = 0.# * u.kilometer #distance between bottom of keel and top of lens\n",
    "\n",
    "LensWidth = 2. * KeelRadius #Half-width of lens\n",
    "\n",
    "LensHeight = KeelRadius #full height of lens\n",
    "\n",
    "LensOffset = 0. #* u.kilometer #horizontal offset of lens from center of box\n",
    "\n",
    "SurfaceLayer = 300. # Thickness of surface-tracking particles in keel."
   ]
  },
  {
   "cell_type": "code",
   "execution_count": 11,
   "metadata": {},
   "outputs": [],
   "source": [
    "#Density and Viscosity Variables: Porosity, Salt Content, Prescribed Density.\n",
    "\n",
    "# Porosity of each model region.\n",
    "PhiLens = 0.0\n",
    "PhiCrust = 0.00\n",
    "PhiShell = 0.0\n",
    "PhiKeel = 0.0 #PhiCrust\n",
    "#PhiAir = 0.5\n",
    "\n",
    "# Salt fraction of each model region.\n",
    "\n",
    "fSLens = 0.0\n",
    "fSCrust = 0.0\n",
    "fSShell = 0.0\n",
    "fSKeel = 0.2\n",
    "\n",
    "#Prescribed density\n",
    "RBG = 0.0 #Density of non-keel regions\n",
    "DRK = 1.0 #fraction of maximum density difference in keel\n",
    "\n",
    "#Prescribed keel weakening\n",
    "EtaFrac = 75.0 #magnitude of viscous weakening in keel"
   ]
  },
  {
   "cell_type": "markdown",
   "metadata": {},
   "source": [
    "## Model Domain Setup"
   ]
  },
  {
   "cell_type": "code",
   "execution_count": 12,
   "metadata": {},
   "outputs": [],
   "source": [
    "#Domain Variables: Change these numbers to rearrange the size and position of crust, keel, and lens.\n",
    "\n",
    "TopShell = 30000.# * u.kilometer\n",
    "\n",
    "\n",
    "TS = TopShell / KL_meters#non_dimensionalise(TopShell)\n",
    "CT = CrustThickness/ KL_meters#non_dimensionalise(CrustThickness)\n",
    "KR = KeelRadius / KL_meters#non_dimensionalise(KeelRadius)\n",
    "LG = LensGap / KL_meters#non_dimensionalise(LensGap)\n",
    "LW = LensWidth / KL_meters#non_dimensionalise(LensWidth)\n",
    "LS = LensHeight / KL_meters#non_dimensionalise(LensHeight)\n",
    "LO = LensOffset / KL_meters#non_dimensionalise(LensOffset)\n",
    "LH = LensHeight / KL_meters#non_dimensionalise(LensHeight)\n",
    "SL = SurfaceLayer / KL_meters\n",
    "\n",
    "#Coordinate setup based on above variable assignments\n",
    "CenterX = Lx #/ 2.0\n",
    "CenterY = TS / 2.0\n",
    "\n",
    "BottomCrust = TS - CT\n",
    "BC = BottomCrust\n",
    "\n",
    "LensRadius = LH / 2.\n",
    "LR = LensRadius\n",
    "\n",
    "TopLens = BottomCrust - KR - LG\n",
    "TL = TopLens\n",
    "\n",
    "BottomLens = TopLens - LH\n",
    "BL = BottomLens\n",
    "\n",
    "LeftLens = CenterX - LW + LO\n",
    "LL = LeftLens\n",
    "\n",
    "RightLens = CenterX + LW + LO\n",
    "RL = RightLens\n",
    "\n",
    "LensCenter = TL - LR\n",
    "LC = LensCenter"
   ]
  },
  {
   "cell_type": "code",
   "execution_count": 13,
   "metadata": {},
   "outputs": [],
   "source": [
    "#Mesh setup, definition of mesh initial conditions\n",
    "mesh = uw.mesh.FeMesh_Cartesian( elementType = (\"Q1/dQ0\"),\n",
    "                                 elementRes  = (Xres,Yres),\n",
    "                                 minCoord    = (0.0,0.0),\n",
    "                                 maxCoord    = (Lx,Ly))\n",
    "\n",
    "# Setup velocity and pressure field\n",
    "velocityField       = uw.mesh.MeshVariable( mesh=mesh,         nodeDofCount = 2 )\n",
    "pressureField       = uw.mesh.MeshVariable( mesh=mesh.subMesh, nodeDofCount = 1 )\n",
    "temperatureDotField = uw.mesh.MeshVariable( mesh=mesh, nodeDofCount = 1)\n",
    "temperatureField = uw.mesh.MeshVariable( mesh=mesh, nodeDofCount=1 )\n",
    "\n",
    "#material indexes\n",
    "#AirIndex = 0\n",
    "ShellIndex = 1\n",
    "CrustIndex = 2\n",
    "KeelIndex = 3\n",
    "LensIndex = 4\n",
    "SurfaceIndex = 5"
   ]
  },
  {
   "cell_type": "code",
   "execution_count": 14,
   "metadata": {},
   "outputs": [],
   "source": [
    "#Establish input/output path\n",
    "outputPath = 'IceDripDataBatch{}/'.format(Batch)\n",
    "\n",
    "os.makedirs(outputPath, exist_ok=True)\n",
    "\n",
    "#if not os.path.exists(outputPath):\n",
    "#    os.makedirs(outputPath)\n",
    "inputPath = 'DripCheckpoints/'"
   ]
  },
  {
   "cell_type": "code",
   "execution_count": 15,
   "metadata": {},
   "outputs": [],
   "source": [
    "\n",
    "velocityField.data[:]       = [0.,0.]"
   ]
  },
  {
   "cell_type": "code",
   "execution_count": 16,
   "metadata": {},
   "outputs": [],
   "source": [
    "if(LoadFromFile == True):\n",
    "# set up mesh to import data--Useful if checkpointed data does not match model resolution\n",
    "    mesh32 = uw.mesh.FeMesh_Cartesian( elementType = (\"Q1/dQ0\"), \n",
    "                                               elementRes = (Xres, Yres), \n",
    "                                                 minCoord = (0., 0.), \n",
    "                                                 maxCoord = (boxLength, boxHeight)  )\n",
    "    temperatureField32 = uw.mesh.MeshVariable( mesh=mesh32,         nodeDofCount=1 )\n",
    "    temperatureDotField32 = uw.mesh.MeshVariable( mesh=mesh, nodeDofCount = 1)\n",
    "    pressureField32    = uw.mesh.MeshVariable( mesh=mesh32.subMesh, nodeDofCount=1 )\n",
    "    velocityField32    = uw.mesh.MeshVariable( mesh=mesh32,         nodeDofCount=2 )\n",
    "\n",
    "    temperatureField32.load(inputPath+'IceDrip_T.out')\n",
    "    temperatureDotField32.load(inputPath+'IceDrip_TDot.out')\n",
    "    velocityField32.load(inputPath+'IceDrip_v.out')\n",
    "    pressureField32.load(inputPath+'IceDrip_P.out')\n",
    "    #transfer data onto model mesh\n",
    "    temperatureField.data[:] = temperatureField32.evaluate(mesh)\n",
    "    temperatureDotField.data[:] = temperatureDotField32.evaluate(mesh)\n",
    "    pressureField.data[:] = pressureField32.evaluate(mesh.subMesh)\n",
    "    velocityField.data[:] = velocityField32.evaluate(mesh)\n",
    "    #Load material data onto swarm\n",
    "    swarm = uw.swarm.Swarm( mesh=mesh )\n",
    "    materialVariable = swarm.add_variable( dataType=\"int\", count=1)\n",
    "    swarm.load(outputPath+'IceDripSwarm.h5')\n",
    "    materialVariable.load(outputPath+'IceDripMV.h5')\n",
    "    \n",
    "    #Will also need to load stress history swarm variable when viscoelasticity is integrated\n",
    "    \n",
    "    # load summary statistics into arrays\n",
    "    data = np.loadtxt(inputPath+'IceDripSummary.out', unpack=True )\n",
    "    timeVal, vrmsVal = data[0].tolist(), data[1].tolist()"
   ]
  },
  {
   "cell_type": "code",
   "execution_count": 17,
   "metadata": {},
   "outputs": [],
   "source": [
    "#material domain allocation\n",
    "\n",
    "#StickyAir = GEO.shapes.Layer(top=Ly, bottom=TS)\n",
    "#Crust = GEO.shapes.Layer(top=TS, bottom=BC)\n",
    "#BottomKeel  = GEO.shapes.Disk(center=(CenterX, BC), radius=KR)\n",
    "\n",
    "#TopKeel = GEO.shapes.Box(top=TS, bottom=BC,\n",
    "#                        minX=CenterX-KR, maxX=CenterX+KR)\n",
    "#Keel = TopKeel | BottomKeel\n",
    "#Lens1 = GEO.shapes.Box(top=TL, bottom=BL,\n",
    "#                       minX=LL, maxX=RL)\n",
    "#Lens2 = GEO.shapes.Disk(center=(LL,LC), radius=LR)\n",
    "#Lens3 = GEO.shapes.Disk(center=(RL,LC), radius=LR)\n",
    "#Lens = Lens1 | Lens2 | Lens3\n",
    "\n",
    "TopKeela = np.array([ (CenterX,TS), (CenterX,BC), (CenterX-KR, BC), (CenterX-KR, TS) ])\n",
    "TopKeel = fn.shape.Polygon(TopKeela)\n",
    "\n",
    "Surfacea = np.array([ (CenterX,TS), (CenterX,(TS-SL)), (CenterX-KR, (TS-SL)), (CenterX-KR, TS) ])\n",
    "Surface = fn.shape.Polygon(Surfacea)\n",
    "\n",
    "Lensa = np.array([ (CenterX,TL), (LL,TL), (LL, BL), (CenterX, BL) ])\n",
    "Lens = fn.shape.Polygon(Lensa)\n"
   ]
  },
  {
   "cell_type": "code",
   "execution_count": 18,
   "metadata": {},
   "outputs": [],
   "source": [
    "if(LoadFromFile == False):\n",
    "#Initialize mesh variables and define initial temperature conditions. Set up particle swarm.\n",
    "    velocityField.data[:]       = [0.,0.]\n",
    "    pressureField.data[:]       = 0.\n",
    "    temperatureDotField.data[:] = 0.\n",
    "    #temperatureField.data[:] = 1.0\n",
    "    timeVal = []\n",
    "    vrmsVal = []\n",
    "    swarm = uw.swarm.Swarm( mesh=mesh )\n",
    "    materialVariable = swarm.add_variable( dataType=\"int\", count=1)    \n",
    "    slabvar1 = swarm.add_variable( dataType=\"int\", count=1)\n",
    "    slabvar2 = swarm.add_variable( dataType=\"int\", count=1)\n",
    "    swarmLayout = uw.swarm.layouts.PerCellSpaceFillerLayout( swarm = swarm, particlesPerCell=20)\n",
    "    swarm.populate_using_layout( layout=swarmLayout )\n",
    "    population_control = uw.swarm.PopulationControl(swarm,aggressive=True, particlesPerCell=20)\n",
    "\n",
    "    materialVariable.data[:] = ShellIndex\n",
    "       \n",
    "#    for index, coord in enumerate(mesh.data):\n",
    "#        slabProf = -(Tc / slabThickness) * coord[1] + (Tc / slabThickness)\n",
    "#        adiabat = -(slabThickness / Tc) * coord[1] + 1.\n",
    "#        if coord[1] >= h:\n",
    "#            temperatureField.data[index] = slabProf\n",
    "#        if coord[1] < h:\n",
    "#            temperatureField.data[index] = adiabat\n",
    "\n",
    "            \n",
    "    for index in range( len(swarm.particleCoordinates.data) ):\n",
    "        coord = swarm.particleCoordinates.data[index][:]\n",
    "        x = coord[0]\n",
    "        z = coord[1]\n",
    "        xx1 = x - CenterX\n",
    "        zz1 = z - BC\n",
    "        condition1 = (xx1*xx1 + zz1*zz1 < KR**2)\n",
    "        xx2 = x - LL\n",
    "        zz2 = z - LC\n",
    "        condition2 = (xx2*xx2 + zz2*zz2 < LR**2)\n",
    "        #if lowerMantle.evaluate(tuple(coord)):\n",
    "            #materialVariable.data[index] = lowerMantleIndex\n",
    "        if(condition1 == True):\n",
    "            materialVariable.data[index] = KeelIndex\n",
    "        elif(TopKeel.evaluate(tuple(coord))):\n",
    "            materialVariable.data[index] = KeelIndex\n",
    "        elif(coord[1] >= BC):\n",
    "            materialVariable.data[index] = CrustIndex\n",
    "\n",
    "        #if StickyAir.evaluate(tuple(coord)):\n",
    "            #materialVariable.data[index] = AirIndex\n",
    "        if(Surface.evaluate(tuple(coord))):\n",
    "            materialVariable.data[index] = SurfaceIndex\n",
    "        if Lens.evaluate(tuple(coord)):\n",
    "            materialVariable.data[index] = LensIndex\n",
    "        if(condition2 == True):\n",
    "            materialVariable.data[index] = LensIndex\n"
   ]
  },
  {
   "cell_type": "code",
   "execution_count": 19,
   "metadata": {},
   "outputs": [],
   "source": [
    "# build a tracer swarm with one particle\n",
    "tracerParticle1 = uw.swarm.Swarm(mesh)\n",
    "advector_tracer1 = uw.systems.SwarmAdvector( swarm=tracerParticle1, velocityField=velocityField, order=2 )\n",
    "\n",
    "tracerParticle2 = uw.swarm.Swarm(mesh)\n",
    "advector_tracer2 = uw.systems.SwarmAdvector( swarm=tracerParticle2, velocityField=velocityField, order=2 )\n",
    "\n",
    "tracerParticle3 = uw.swarm.Swarm(mesh)\n",
    "advector_tracer3 = uw.systems.SwarmAdvector( swarm=tracerParticle3, velocityField=velocityField, order=2 )\n",
    "\n",
    "tracerParticle4 = uw.swarm.Swarm(mesh)\n",
    "advector_tracer4 = uw.systems.SwarmAdvector( swarm=tracerParticle4, velocityField=velocityField, order=2 )\n",
    "\n",
    "# build a numpy array with one particle, specifying it's exact location\n",
    "x_pos1 = CenterX - KR\n",
    "y_pos1 = TS\n",
    "x_pos2 = CenterX - (KR/2)\n",
    "y_pos2 = BC\n",
    "x_pos3 = CenterX\n",
    "y_pos3 = BC-KR\n",
    "coord_array1 = np.array(object=(x_pos1,y_pos1),ndmin=2)\n",
    "tracerParticle1.add_particles_with_coordinates(coord_array1)\n",
    "coord_array2 = np.array(object=(x_pos2,y_pos1),ndmin=2)\n",
    "tracerParticle2.add_particles_with_coordinates(coord_array2)\n",
    "coord_array3 = np.array(object=(x_pos3,y_pos2),ndmin=2)\n",
    "tracerParticle3.add_particles_with_coordinates(coord_array3)\n",
    "coord_array4 = np.array(object=(x_pos3,y_pos3),ndmin=2)\n",
    "tracerParticle4.add_particles_with_coordinates(coord_array4)\n",
    "\n",
    "# define a y coordinate `min_max` function\n",
    "fn_ycoord = fn.view.min_max( fn.coord()[1] )\n",
    "fn_xcoord = fn.view.min_max( fn.coord()[0] )\n",
    "def GetSwarm1XMin():\n",
    "    fn_xcoord.reset()\n",
    "    fn_xcoord.evaluate(tracerParticle1)\n",
    "    return fn_xcoord.min_global()\n",
    "def GetSwarm2XMin():\n",
    "    fn_xcoord.reset()\n",
    "    fn_xcoord.evaluate(tracerParticle2)\n",
    "    return fn_xcoord.min_global()\n",
    "def GetSwarm3YMin():\n",
    "    fn_ycoord.reset()\n",
    "    fn_ycoord.evaluate(tracerParticle3)\n",
    "    return fn_ycoord.min_global()\n",
    "def GetSwarm4YMin():\n",
    "    fn_ycoord.reset()\n",
    "    fn_ycoord.evaluate(tracerParticle4)\n",
    "    return fn_ycoord.min_global()"
   ]
  },
  {
   "cell_type": "code",
   "execution_count": 20,
   "metadata": {},
   "outputs": [
    {
     "name": "stdout",
     "output_type": "stream",
     "text": [
      "Minimum x value for keel surface boundary = 1.333e+00\n",
      "Minimum x value for keel surface interior = 1.417e+00\n",
      "Minimum y value for keel interior = 9.000e-01\n",
      "Minimum y value for keel base = 7.333e-01\n"
     ]
    }
   ],
   "source": [
    "xmin1 = GetSwarm1XMin()\n",
    "if rank==0:\n",
    "    print('Minimum x value for keel surface boundary = {0:.3e}'.format(xmin1))\n",
    "xmin2 = GetSwarm2XMin()\n",
    "if rank==0:\n",
    "    print('Minimum x value for keel surface interior = {0:.3e}'.format(xmin2))\n",
    "ymin1 = GetSwarm3YMin()\n",
    "if rank==0:\n",
    "    print('Minimum y value for keel interior = {0:.3e}'.format(ymin1))\n",
    "ymin2 = GetSwarm4YMin()\n",
    "if rank==0:\n",
    "    print('Minimum y value for keel base = {0:.3e}'.format(ymin2))"
   ]
  },
  {
   "cell_type": "code",
   "execution_count": 21,
   "metadata": {},
   "outputs": [
    {
     "data": {
      "text/html": [
       "<img src='data:image/png;base64,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'>"
      ],
      "text/plain": [
       "<IPython.core.display.HTML object>"
      ]
     },
     "metadata": {},
     "output_type": "display_data"
    }
   ],
   "source": [
    "figParticle = glucifer.Figure(figsize=(960,300))\n",
    "figParticle.append( glucifer.objects.Points(swarm, materialVariable, pointSize=2, colours='white green red purple blue') )\n",
    "figParticle.append( glucifer.objects.Mesh(mesh, opacity=0.1))\n",
    "figParticle.show()"
   ]
  },
  {
   "cell_type": "code",
   "execution_count": 22,
   "metadata": {},
   "outputs": [],
   "source": [
    "dTc = Tmin_s - Tc_s\n",
    "dzc = CT\n",
    "dzl = TS - BL\n",
    "dTm = Tc_s - Tmax_s\n",
    "\n",
    "if(LoadFromFile == False):\n",
    "    for index, coord in enumerate(mesh.data):\n",
    "        temperatureField.data[:] = 1.0\n",
    "    for index, coord in enumerate(mesh.data):\n",
    "        x = coord[0]\n",
    "        z = coord[1]\n",
    "        xx = x - CenterX\n",
    "        zz = z - BC\n",
    "        condition = (xx*xx + zz*zz < KR**2)\n",
    "        if(condition == True):\n",
    "            temperatureField.data[index] = Tmin_s + (dTc/dzl)*(coord[1]-TS)\n",
    "        elif coord[1] <= BC:\n",
    "            temperatureField.data[index] = (dTm/BC)*coord[1]+Tmax_s\n",
    "        elif coord[1] >=BC:\n",
    "            temperatureField.data[index] = Tmin_s + (dTc/dzc)*(coord[1]-TS)\n",
    "        if coord[1] >= TS:\n",
    "            temperatureField.data[index] = Tmin_s\n",
    "        \n",
    "\n"
   ]
  },
  {
   "cell_type": "code",
   "execution_count": 23,
   "metadata": {},
   "outputs": [],
   "source": [
    "fig1 = glucifer.Figure()\n",
    "fig1.append( glucifer.objects.Surface(mesh, temperatureField) )\n",
    "fig1.append( glucifer.objects.VectorArrows(mesh, velocityField / 500., arrowHead=0.2, scaling=0.1) )\n",
    "#fig1.append( glucifer.objects.Mesh(mesh))\n",
    "#fig1.show()"
   ]
  },
  {
   "cell_type": "code",
   "execution_count": 24,
   "metadata": {},
   "outputs": [],
   "source": [
    "PhiMap = { LensIndex  : PhiLens,\n",
    "           CrustIndex : PhiCrust,\n",
    "           ShellIndex : PhiShell,\n",
    "           KeelIndex  : PhiKeel,\n",
    "           SurfaceIndex : PhiKeel}\n",
    "           #AirIndex   : PhiAir   }\n",
    "\n",
    "fSMap = {  LensIndex    : fSLens,\n",
    "           CrustIndex   : fSCrust,\n",
    "           ShellIndex   : fSShell,\n",
    "           KeelIndex    : fSKeel,\n",
    "           SurfaceIndex : fSKeel}\n",
    "           #AirIndex   : fSAir   }\n",
    "\n",
    "Phi = fn.branching.map( fn_key = materialVariable, mapping = PhiMap)\n",
    "\n",
    "fS = fn.branching.map( fn_key = materialVariable, mapping = fSMap)\n",
    "\n",
    "figPhi = glucifer.Figure(figsize=(960,300))\n",
    "figPhi.append( glucifer.objects.Points(swarm, Phi, pointSize=2,) )\n",
    "figPhi.append( glucifer.objects.Mesh(mesh, opacity=0.1))\n",
    "#figPhi.show()\n",
    "\n",
    "figfS = glucifer.Figure(figsize=(960,300))\n",
    "figfS.append( glucifer.objects.Points(swarm, fS, pointSize=2,) )\n",
    "figfS.append( glucifer.objects.Mesh(mesh, opacity=0.1))\n",
    "#figfS.show()\n"
   ]
  },
  {
   "cell_type": "code",
   "execution_count": 25,
   "metadata": {},
   "outputs": [],
   "source": [
    "#Defining Density Function\n",
    "#Rb = Ra\n",
    "\n",
    "if SaltDensity == True:\n",
    "    DeltaRho = -rho_s*Phi+fS*(rhoSalt_s-rho_s)\n",
    "\n",
    "    DeltaRho = fn.misc.min(DeltaRho,DelRho_s) # This ensures the ice is never more dense than water.\n",
    "\n",
    "    Density = DeltaRho #+ rho_s\n",
    "\n",
    "    DensityMap = { LensIndex  : Density,\n",
    "                   CrustIndex : Density,\n",
    "                   ShellIndex : Density,\n",
    "                   KeelIndex  : Density,\n",
    "                   SurfaceIndex  : Density }#DeltaRho  }\n",
    "                   #AirIndex   : DeltaRho   }\n",
    "else:\n",
    "    rhoBG = RBG\n",
    "    DeltaRhoKeel = DelRho_s * DRK # Max density difference is DelRho_s (0.89). Scaled to density of ice. positive is more dense.\n",
    "                                  # Manipulate number in denominator to modulate density difference of keel.\n",
    "    DensityMap = { LensIndex  : rhoBG,\n",
    "                   CrustIndex : rhoBG,\n",
    "                   ShellIndex : rhoBG,\n",
    "                   KeelIndex  : DeltaRhoKeel,\n",
    "                   SurfaceIndex  : DeltaRhoKeel}\n",
    "\n",
    "DensityFn = fn.branching.map( fn_key = materialVariable, mapping = DensityMap)\n",
    "\n",
    "\n",
    "DensityFn_s = Ra * temperatureField - Rb * (DensityFn / DelRho_s)\n",
    "\n",
    "figDensity = glucifer.Figure(figsize=(960,300))\n",
    "figDensity.append( glucifer.objects.Points(swarm, DensityFn, pointSize=2,) )\n",
    "figDensity.append( glucifer.objects.Mesh(mesh, opacity=0.1))\n",
    "#figDensity.show()\n",
    "\n",
    "figDensity_s = glucifer.Figure(figsize=(960,300))\n",
    "figDensity_s.append( glucifer.objects.Points(swarm, DensityFn_s, pointSize=2,) )\n",
    "figDensity_s.append( glucifer.objects.Mesh(mesh, opacity=0.1))\n",
    "#figDensity_s.show()"
   ]
  },
  {
   "cell_type": "code",
   "execution_count": 26,
   "metadata": {},
   "outputs": [],
   "source": [
    "#define rheology\n",
    "\n",
    "etamax_s = etamax_s #Testing viscous flow law stuff\n",
    "\n",
    "#Temperature-Dependent viscous rheology\n",
    "frankKam = (etamax_s * fn.math.exp(-1.0 * np.log(etamax_s) * temperatureField)) #* ((1. - Phi)**Beta)\n",
    "\n",
    "\n",
    "#Plastic failure criterion\n",
    "strainRate_2ndInvariant = fn.tensor.second_invariant( \n",
    "                            fn.tensor.symmetric( \n",
    "                            velocityField.fn_gradient ))\n",
    "\n",
    "cohesion = sigy_s #2449479.5 \n",
    "\n",
    "#vonMises = 1000.\n",
    "    \n",
    "vonMises = 0.5 * cohesion / (strainRate_2ndInvariant+1.0e-18)\n",
    "\n",
    "figStrainRate = glucifer.Figure(name=\"strain Rate\", figsize=(960,300) )\n",
    "StrainRate =glucifer.objects.Surface(mesh, strainRate_2ndInvariant)\n",
    "figStrainRate.append( StrainRate )\n",
    "StrainRate.colourBar[\"ticks\"] = 10\n",
    "#figStrainRate.show()"
   ]
  },
  {
   "cell_type": "code",
   "execution_count": 27,
   "metadata": {},
   "outputs": [],
   "source": [
    "ShellVisc = frankKam\n",
    "CrustVisc = fn.exception.SafeMaths(fn.misc.min(vonMises, ShellVisc))\n",
    "KeelVisc1 = frankKam / EtaFrac # Viscous-only Keel. Manipulate number in denominator to weaken keel wrt rest of crust.\n",
    "KeelVisc2 = fn.exception.SafeMaths(fn.misc.min(vonMises, KeelVisc1)) # adds plastic failure\n",
    "StickyAir = 1.0\n",
    "\n",
    "viscousOnlyMap = { LensIndex  : ShellVisc,\n",
    "                   CrustIndex : ShellVisc,\n",
    "                   ShellIndex : ShellVisc,\n",
    "                   KeelIndex  : KeelVisc1,\n",
    "                   SurfaceIndex  : KeelVisc1}\n",
    "                 #AirIndex   : StickyAir   }\n",
    "    \n",
    "viscosityMap = {  LensIndex  : ShellVisc,\n",
    "                  CrustIndex : CrustVisc,\n",
    "                  ShellIndex : ShellVisc,\n",
    "                  KeelIndex  : KeelVisc2,\n",
    "                  SurfaceIndex  : KeelVisc2}\n",
    "\n",
    "viscousOnlyFn = fn.branching.map( fn_key = materialVariable, mapping = viscousOnlyMap)\n",
    "viscosityFn = fn.branching.map( fn_key = materialVariable, mapping = viscosityMap)\n",
    "\n",
    "figViscosity= glucifer.Figure(name=\"Viscosity\", figsize=(960,300) )\n",
    "figViscosity.append( glucifer.objects.Mesh(mesh, opacity=0.1))\n",
    "figViscosity.append( glucifer.objects.Points(swarm     = swarm, \n",
    "                                             fn_colour = viscosityFn, \n",
    "                                             pointSize = 1.0, \n",
    "                                             #fn_mask   = materialFilter,\n",
    "                                             logScale  = True))\n",
    "#figViscosity.colourbar[\"ticks\"] = 6\n",
    "#figViscosity.show()\n",
    "\n"
   ]
  },
  {
   "cell_type": "code",
   "execution_count": 28,
   "metadata": {},
   "outputs": [],
   "source": [
    "z_hat = (0.0, 1.0)\n",
    "\n",
    "buoyancyFn = DensityFn_s * z_hat"
   ]
  },
  {
   "cell_type": "code",
   "execution_count": 29,
   "metadata": {},
   "outputs": [],
   "source": [
    "#Define T and V BCs\n",
    "iWalls = mesh.specialSets[\"MinI_VertexSet\"] + mesh.specialSets[\"MaxI_VertexSet\"]\n",
    "jWalls = mesh.specialSets[\"MinJ_VertexSet\"] + mesh.specialSets[\"MaxJ_VertexSet\"]\n",
    "topWall = mesh.specialSets[\"MaxJ_VertexSet\"]\n",
    "bottomWall = mesh.specialSets[\"MinJ_VertexSet\"]\n",
    "\n",
    "    \n",
    "TBC = jWalls #iWalls + jWalls\n",
    "VxBC = iWalls\n",
    "VyBC = jWalls\n",
    "\n",
    "velocityBCs = uw.conditions.DirichletCondition( variable        = velocityField,\n",
    "                                                indexSetsPerDof = (VxBC, VyBC) )\n",
    "\n",
    "temperatureBCs = uw.conditions.DirichletCondition( variable        = temperatureField,\n",
    "                                                   indexSetsPerDof = (TBC) )"
   ]
  },
  {
   "cell_type": "markdown",
   "metadata": {},
   "source": [
    "## System and Solver Setup, Time-Stepping Loop"
   ]
  },
  {
   "cell_type": "code",
   "execution_count": 30,
   "metadata": {},
   "outputs": [],
   "source": [
    "#Systems setup\n",
    "stokes = uw.systems.Stokes( velocityField = velocityField,\n",
    "                            pressureField = pressureField,\n",
    "                            voronoi_swarm = swarm,\n",
    "                            conditions    = velocityBCs,\n",
    "                            fn_viscosity  = viscosityFn,\n",
    "                            fn_bodyforce  = buoyancyFn )\n",
    "\n",
    "stokesInit = uw.systems.Stokes( velocityField = velocityField,\n",
    "                                pressureField = pressureField,\n",
    "                                voronoi_swarm = swarm,\n",
    "                                conditions    = velocityBCs,\n",
    "                                fn_viscosity  = viscousOnlyFn,\n",
    "                                fn_bodyforce  = buoyancyFn )\n",
    "\n",
    "advDiff = uw.systems.AdvectionDiffusion( phiField       = temperatureField,\n",
    "                                         phiDotField    = temperatureDotField,\n",
    "                                         velocityField  = velocityField,\n",
    "                                         fn_diffusivity = 1.0,\n",
    "                                         conditions     = temperatureBCs )\n",
    "advector1 = uw.systems.SwarmAdvector( swarm=swarm,\n",
    "                                      velocityField = velocityField,\n",
    "                                      order = 2)\n",
    "advector2 = uw.systems.SwarmAdvector( swarm=tracerParticle1,\n",
    "                                      velocityField = velocityField,\n",
    "                                      order = 2)\n",
    "advector3 = uw.systems.SwarmAdvector( swarm=tracerParticle2,\n",
    "                                      velocityField = velocityField,\n",
    "                                      order = 2)\n",
    "advector4 = uw.systems.SwarmAdvector( swarm=tracerParticle3,\n",
    "                                      velocityField = velocityField,\n",
    "                                      order = 2)\n",
    "advector5 = uw.systems.SwarmAdvector( swarm=tracerParticle4,\n",
    "                                      velocityField = velocityField,\n",
    "                                      order = 2)\n",
    "\n",
    "solverInit = uw.systems.Solver( stokesInit )\n",
    "solver = uw.systems.Solver( stokes )"
   ]
  },
  {
   "cell_type": "code",
   "execution_count": 31,
   "metadata": {},
   "outputs": [],
   "source": [
    "#analysis toools setup\n",
    "\n",
    "#vrms\n",
    "intVdotV = uw.utils.Integral( fn.math.dot( velocityField, velocityField ), mesh )\n",
    "vrms = math.sqrt( intVdotV.evaluate()[0] )"
   ]
  },
  {
   "cell_type": "code",
   "execution_count": 32,
   "metadata": {},
   "outputs": [
    {
     "name": "stdout",
     "output_type": "stream",
     "text": [
      "Begining at t =  0.0  after having completed  0  steps\n"
     ]
    }
   ],
   "source": [
    "#time stepping loop\n",
    "def update():\n",
    "    dt1 = advDiff.get_max_dt()\n",
    "    advDiff.integrate(dt1)\n",
    "    advector1.integrate(dt1)\n",
    "    advector2.integrate(dt1)\n",
    "    advector3.integrate(dt1)\n",
    "    advector4.integrate(dt1)\n",
    "    advector5.integrate(dt1)\n",
    "    return time+dt1, step+1\n",
    "\n",
    "#initialize and solve\n",
    "step_prev = len(timeVal)\n",
    "time = 0.\n",
    "step = step_prev\n",
    "steps_end = 1\n",
    "step_out = 1\n",
    "\n",
    "# Set time to zero, unless we are loading from file.\n",
    "try:\n",
    "    time_start = timeVal[-1]\n",
    "except:\n",
    "    time_start = 0.0\n",
    "print ('Begining at t = ',time_start,' after having completed ',step_prev,' steps')"
   ]
  },
  {
   "cell_type": "markdown",
   "metadata": {},
   "source": [
    "while step < steps_end:\n",
    "    solverInit.solve(nonLinearIterate=True)\n",
    "    vrms = math.sqrt( intVdotV.evaluate()[0] )\n",
    "    vrmsVal.append(vrms)\n",
    "    time, step = update()\n",
    "    population_control.repopulate()\n",
    "    timeVal.append(step)\n",
    "    if step % step_out == 0:\n",
    "        temperatureField.save(outputPath+'IceDrip_T.out')\n",
    "        temperatureDotField.save(outputPath+'IceDrip_TDot.out')\n",
    "        velocityField.save(outputPath+'IceDrip_v.out')\n",
    "        pressureField.save(outputPath+'IceDrip_P.out')\n",
    "        swarm.save(outputPath+'IceDrip_Swarm.h5')\n",
    "        materialVariable.save(outputPath+'IceDrip_MV.h5')\n",
    "        #Will also need to save stress history variable when viscoelasticity is integrated\n",
    "        np.savetxt( outputPath+'IceDrip_Summary.out', np.c_[timeVal, vrmsVal])\n",
    "        vrms = stokes.velocity_rms()\n",
    "        print('step = {0:6d}; time = {1:.3e}; Vrms = {2:.3e}'.format(step,time,vrms))"
   ]
  },
  {
   "cell_type": "markdown",
   "metadata": {},
   "source": [
    "# These show the viscous-only initialization step.\n",
    "fig1.show()\n",
    "\n",
    "figParticle.show()\n",
    "\n",
    "figViscosity.show()\n",
    "\n",
    "figStrainRate.show()"
   ]
  },
  {
   "cell_type": "code",
   "execution_count": 33,
   "metadata": {},
   "outputs": [
    {
     "name": "stdout",
     "output_type": "stream",
     "text": [
      "Begining at t =  0.0  after having completed  0  steps\n",
      "step =     50; time = 1.613e-04; Vrms = 5.782e+02; xmin1 = 1.335e+00; ymin2 = 4.974e-01\n",
      "step =    100; time = 2.090e-04; Vrms = 1.405e+03; xmin1 = 1.336e+00; ymin2 = 2.636e-01\n",
      "step =    150; time = 2.431e-04; Vrms = 1.493e+03; xmin1 = 1.336e+00; ymin2 = 5.409e-02\n",
      "step =    200; time = 2.957e-04; Vrms = 1.129e+03; xmin1 = 1.337e+00; ymin2 = 1.334e-02\n",
      "step =    250; time = 3.552e-04; Vrms = 1.105e+03; xmin1 = 1.337e+00; ymin2 = 1.717e-02\n",
      "step =    300; time = 4.228e-04; Vrms = 1.018e+03; xmin1 = 1.338e+00; ymin2 = 2.623e-02\n",
      "step =    350; time = 4.962e-04; Vrms = 9.953e+02; xmin1 = 1.338e+00; ymin2 = 2.316e-02\n",
      "step =    400; time = 5.740e-04; Vrms = 9.475e+02; xmin1 = 1.339e+00; ymin2 = 2.245e-02\n",
      "step =    450; time = 6.554e-04; Vrms = 9.011e+02; xmin1 = 1.340e+00; ymin2 = 2.277e-02\n",
      "step =    500; time = 7.402e-04; Vrms = 8.494e+02; xmin1 = 1.340e+00; ymin2 = 2.298e-02\n"
     ]
    }
   ],
   "source": [
    "if (Testing == True):\n",
    "    nsteps=10\n",
    "    step_out = 2\n",
    "else:\n",
    "    nsteps=500\n",
    "    step_out = 50\n",
    "try:\n",
    "    time_start = timeVal[-1]\n",
    "except:\n",
    "    time_start = 0.0\n",
    "print ('Begining at t = ',time_start,' after having completed ',step_prev,' steps')\n",
    "\n",
    "step_prev = len(timeVal)\n",
    "time = 0.\n",
    "step = step_prev\n",
    "meshFileHandle = mesh.save(outputPath+\"Mesh.h5\")\n",
    "swarmFileHandle = swarm.save(outputPath+\"Swarm.h5\")\n",
    "\n",
    "tTracers = np.zeros(nsteps)\n",
    "xTracer1 = np.zeros(nsteps)\n",
    "xTracer2 = np.zeros(nsteps)\n",
    "yTracer3 = np.zeros(nsteps)\n",
    "yTracer4 = np.zeros(nsteps)\n",
    "Shortening1 = np.zeros(nsteps)\n",
    "Shortening2 = np.zeros(nsteps)\n",
    "\n",
    "while step < nsteps:\n",
    "    solverInit.solve(nonLinearIterate=True)\n",
    "    vrms = math.sqrt( intVdotV.evaluate()[0] )\n",
    "    vrmsVal.append(vrms)\n",
    "    xmin1 = GetSwarm1XMin()\n",
    "    xmin2 = GetSwarm2XMin()\n",
    "    ymin1 = GetSwarm3YMin()\n",
    "    ymin2 = GetSwarm4YMin()\n",
    "    if rank==0:\n",
    "        xTracer1[step] = xmin1 * 30.\n",
    "        Shortening1[step] = ((CenterX-x_pos1)-(CenterX-xmin1))/(CenterX-x_pos1)\n",
    "        xTracer2[step] = xmin2 * 30.\n",
    "        Shortening2[step] = ((CenterX-x_pos2)-(CenterX-xmin2))/(CenterX-x_pos2)\n",
    "        yTracer3[step] = ymin1 * 30.\n",
    "        yTracer4[step] = ymin2 * 30.\n",
    "        tTracers[step] = (time * Kt_seconds) / (60 * 60 * 24 * 365 * 1000)\n",
    "    if step % step_out == 0:\n",
    "        temperatureField.save(outputPath+'IceDrip_T.out')\n",
    "        temperatureDotField.save(outputPath+'IceDrip_TDot.out')\n",
    "        velocityField.save(outputPath+'IceDrip_v.out')\n",
    "        pressureField.save(outputPath+'IceDrip_P.out')\n",
    "        \n",
    "        velocityFile = outputPath+\"/velocityField\"+str(Trial)+\".\"+str(step)\n",
    "        vFH      = velocityField.save(velocityFile+\".h5\")\n",
    "        velocityField.xdmf( velocityFile, vFH, \"velocity\", meshFileHandle, \"TheMesh\", time )\n",
    "        \n",
    "        pressureFile = outputPath+\"/pressureField\"+str(Trial)+\".\"+str(step)\n",
    "        pFH      = pressureField.save(pressureFile+\".h5\")\n",
    "        pressureField.xdmf(pressureFile, pFH, \"pressure\", meshFileHandle, \"TheMesh\", time )\n",
    "        \n",
    "        temperatureFile = outputPath+\"/temperatureField\"+str(Trial)+\".\"+str(step)\n",
    "        TFH      = temperatureField.save(temperatureFile+\".h5\")\n",
    "        temperatureField.xdmf(temperatureFile, TFH, \"temperature\", meshFileHandle, \"TheMesh\", time )\n",
    "        \n",
    "        #filename = outputPath+\"/Particles{}.\".format(Trial)+str(step) \n",
    "        #swFH      = swarm.save(filename+\".h5\")\n",
    "        #pressureField.xdmf(filename, swFH, \"swarm\", swarmFileHandle, \"swarm\", time )\n",
    "        \n",
    "        particleFile = outputPath+\"/MVar\"+str(Trial)+\".\"+str(step) \n",
    "        MVFH      = materialVariable.save(particleFile+\".h5\")\n",
    "        materialVariable.xdmf(particleFile, MVFH, \"materialVariable\", swarmFileHandle, \"TheSwarm\", time )\n",
    "     \n",
    "            \n",
    "    time, step = update()\n",
    "    population_control.repopulate()\n",
    "    timeVal.append(step)\n",
    "    if step % step_out == 0:\n",
    "        #Will also need to save stress history variable when viscoelasticity is integrated\n",
    "        np.savetxt( outputPath+'IceDrip_Summary.out', np.c_[timeVal, vrmsVal])\n",
    "        vrms = stokes.velocity_rms()\n",
    "        print('step = {0:6d}; time = {1:.3e}; Vrms = {2:.3e}; xmin1 = {3:.3e}; ymin2 = {4:.3e}'.format(step,time,vrms,xmin1,ymin2))\n",
    "\n"
   ]
  },
  {
   "cell_type": "markdown",
   "metadata": {},
   "source": [
    "## Post-Run Analysis"
   ]
  },
  {
   "cell_type": "markdown",
   "metadata": {},
   "source": [
    "fig1.save(filename=outputPath+'TemperatureField.png', size=(3,3), type='Image')\n",
    "#fig1.save_image(outputPath+'TemperatureField.png')\n",
    "\n",
    "figParticle.save(filename=outputPath+'ParticleField.png', size=(3,3), type='Image')\n",
    "#figParticle.save_image(outputPath+'ParticleField.png')\n",
    "\n",
    "figViscosity.save(filename=outputPath+'ViscosityField.png', size=(3,3), type='Image')\n",
    "#figViscosity.save_image(outputPath+'ViscosityField.png')"
   ]
  },
  {
   "cell_type": "code",
   "execution_count": 34,
   "metadata": {},
   "outputs": [
    {
     "data": {
      "image/png": "[encoded data removed]",
      "text/plain": [
       "<Figure size 864x432 with 1 Axes>"
      ]
     },
     "metadata": {
      "needs_background": "light"
     },
     "output_type": "display_data"
    }
   ],
   "source": [
    "#figDensity.show()\n",
    "\n",
    "#figStrainRate.show()\n",
    "\n",
    "#uw.utils.matplotlib_inline()\n",
    "\n",
    "\n",
    "import matplotlib.pyplot as pyplot\n",
    "fig4 = pyplot.figure()\n",
    "fig4.set_size_inches(12, 6)\n",
    "ax= fig4.add_subplot(1,1,1)\n",
    "ax.plot(timeVal, vrmsVal, color = 'black')\n",
    "ax.set_xlabel('Timestep')\n",
    "ax.set_ylabel('RMS velocity')\n",
    "ax.set_xlim([1.0,nsteps])\n",
    "fig4.savefig(outputPath+'vrms{}.png'.format(Trial))"
   ]
  },
  {
   "cell_type": "code",
   "execution_count": 35,
   "metadata": {
    "scrolled": true
   },
   "outputs": [
    {
     "name": "stdout",
     "output_type": "stream",
     "text": [
      "Initial position: t = 0.000, x1 = 40.000, x2 = 42.500, y1 = 27.000, y2=22.000\n",
      "Final position:   t = 15.054, x1 = 40.204, x2 = 42.657, y1 = 26.276, y2=0.690\n"
     ]
    },
    {
     "data": {
      "image/png": "[encoded data removed]",
      "text/plain": [
       "<Figure size 864x432 with 2 Axes>"
      ]
     },
     "metadata": {
      "needs_background": "light"
     },
     "output_type": "display_data"
    }
   ],
   "source": [
    "if rank==0:\n",
    "    print('Initial position: t = {0:.3f}, x1 = {1:.3f}, x2 = {2:.3f}, y1 = {3:.3f}, y2={4:.3f}'.format(tTracers[0], xTracer1[0], xTracer2[0], yTracer3[0], yTracer4[0]))\n",
    "    print('Final position:   t = {0:.3f}, x1 = {1:.3f}, x2 = {2:.3f}, y1 = {3:.3f}, y2={4:.3f}'.format(tTracers[nsteps-1], xTracer1[nsteps-1], xTracer2[nsteps-1], yTracer3[nsteps-1], yTracer4[nsteps-1]))\n",
    "\n",
    "    #uw.utils.matplotlib_inline()\n",
    "    figTracer1 = pyplot.figure()\n",
    "    figTracer1.set_size_inches(12, 6)\n",
    "    ax1 = figTracer1.add_subplot(1,2,1)\n",
    "    ax1.plot(tTracers, Shortening1, label = \"x1\")\n",
    "    ax1.plot(tTracers, Shortening2, label = \"x2\")\n",
    "    ax1.set_xlabel('Time')\n",
    "    ax1.set_ylabel('Surface Shortening')\n",
    "    ax1.legend()\n",
    "    ax2 = figTracer1.add_subplot(1,2,2)\n",
    "    ax2.plot(tTracers, yTracer3, color = \"purple\", label = \"y1\")\n",
    "    ax2.plot(tTracers, yTracer4, color = \"green\", label = \"y2\")\n",
    "    ax2.set_xlabel('Time')\n",
    "    ax2.set_ylabel('Keel Y Position')\n",
    "    ax2.legend()\n",
    "    figTracer1.savefig(outputPath+'FigTracer{}.png'.format(Trial))\n",
    "    "
   ]
  },
  {
   "cell_type": "code",
   "execution_count": 42,
   "metadata": {},
   "outputs": [],
   "source": [
    "np.savetxt(outputPath + \"IceDripData{}.txt\".format(Trial), (tTracers, xTracer1, xTracer2, yTracer3, yTracer4), fmt='%1.4e')"
   ]
  },
  {
   "cell_type": "code",
   "execution_count": 37,
   "metadata": {},
   "outputs": [
    {
     "data": {
      "text/html": [
       "<img src='data:image/png;base64,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'>"
      ],
      "text/plain": [
       "<IPython.core.display.HTML object>"
      ]
     },
     "metadata": {},
     "output_type": "display_data"
    }
   ],
   "source": [
    "figParticle.show()"
   ]
  },
  {
   "cell_type": "code",
   "execution_count": null,
   "metadata": {},
   "outputs": [],
   "source": []
  }
 ],
 "metadata": {
  "kernelspec": {
   "display_name": "Python 3",
   "language": "python",
   "name": "python3"
  },
  "language_info": {
   "codemirror_mode": {
    "name": "ipython",
    "version": 3
   },
   "file_extension": ".py",
   "mimetype": "text/x-python",
   "name": "python",
   "nbconvert_exporter": "python",
   "pygments_lexer": "ipython3",
   "version": "3.7.3"
  }
 },
 "nbformat": 4,
 "nbformat_minor": 2
}
